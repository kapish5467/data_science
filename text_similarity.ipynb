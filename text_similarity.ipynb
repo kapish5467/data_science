{
 "cells": [
  {
   "cell_type": "code",
   "execution_count": 1,
   "metadata": {
    "collapsed": true
   },
   "outputs": [],
   "source": [
    "from sklearn.feature_extraction.text import CountVectorizer\n",
    "import nltk\n",
    "from nltk.stem import WordNetLemmatizer\n",
    "import numpy as np\n",
    "import os\n",
    "import string\n",
    "from scipy import spatial"
   ]
  },
  {
   "cell_type": "code",
   "execution_count": 2,
   "metadata": {
    "collapsed": true
   },
   "outputs": [],
   "source": [
    "g = open(\"C:/Users/Karan/Documents/data_science/GRS/data_lemma.txt\")\n",
    "corpus_file=[]\n",
    "for lines in g:\n",
    "\tcorpus_file.append(lines)\n",
    "g.close()"
   ]
  },
  {
   "cell_type": "code",
   "execution_count": 4,
   "metadata": {
    "collapsed": false
   },
   "outputs": [
    {
     "data": {
      "text/plain": [
       "CountVectorizer(analyzer=u'word', binary=False, decode_error=u'strict',\n",
       "        dtype=<type 'numpy.int64'>, encoding=u'utf-8', input=u'content',\n",
       "        lowercase=True, max_df=1.0, max_features=None, min_df=1,\n",
       "        ngram_range=(1, 1), preprocessor=None, stop_words=None,\n",
       "        strip_accents=None, token_pattern=u'(?u)\\\\b\\\\w\\\\w+\\\\b',\n",
       "        tokenizer=None, vocabulary=None)"
      ]
     },
     "execution_count": 4,
     "metadata": {},
     "output_type": "execute_result"
    }
   ],
   "source": [
    "vectorizer = CountVectorizer(min_df=1)\n",
    "vectorizer.fit(corpus_file)"
   ]
  },
  {
   "cell_type": "code",
   "execution_count": 5,
   "metadata": {
    "collapsed": false
   },
   "outputs": [
    {
     "name": "stdout",
     "output_type": "stream",
     "text": [
      "[u'abet', u'abstract', u'abuse', u'accessory', u'accomplice', u'accord', u'accusation', u'accused', u'acknowledgment', u'acquit', u'acquittal', u'act', u'action', u'ad', u'additur', u'adjudicate', u'adjudication', u'administration', u'administrator', u'admissible', u'admission', u'admonish', u'adoption', u'adr', u'adversary', u'affiant', u'affidavit', u'affirmative', u'affirmed', u'agent', u'aggravated', u'aggravating', u'agreed', u'agreement', u'aid', u'al', u'alford', u'alia', u'alibi', u'alimony', u'allegation', u'allege', u'alleged', u'allocution', u'allowance', u'alternate', u'alternative', u'amend', u'amendment', u'amicus', u'annotation', u'annual', u'answer', u'appeal', u'appear', u'appearance', u'appellant', u'appellate', u'appellee', u'appointed', u'arbitration', u'argument', u'arraign', u'arraignment', u'array', u'arrest', u'arson', u'assault', u'asset', u'assignee', u'assignment', u'assistant', u'assumption', u'attachment', u'attack', u'attempt', u'attest', u'attorney', u'authenticate', u'auto', u'bail', u'bailiff', u'banc', u'bankrupt', u'bankruptcy', u'bar', u'bargain', u'battered', u'battery', u'bench', u'beneficiary', u'bequeath', u'bequest', u'best', u'beyond', u'bias', u'bifurcate', u'bill', u'bind', u'body', u'bond', u'bondsman', u'bono', u'booking', u'bookmaking', u'box', u'brandishing', u'breach', u'breaking', u'breathalyzer', u'bribe', u'brief', u'burden', u'burglary', u'calendar', u'calling', u'camera', u'capacity', u'capital', u'caption', u'care', u'case', u'causation', u'cause', u'caveat', u'cease', u'cell', u'certification', u'certified', u'certiori', u'cfr', u'chain', u'challenge', u'chamber', u'change', u'character', u'charge', u'charging', u'chet', u'chief', u'child', u'circumstance', u'circumstantial', u'citation', u'civil', u'claim', u'class', u'clause', u'clear', u'clemency', u'clerk', u'closing', u'code', u'codicil', u'collateral', u'commissioner', u'commit', u'commitment', u'common', u'communication', u'community', u'commutation', u'comparative', u'competency', u'complainant', u'complaint', u'comply', u'compos', u'composite', u'concealed', u'conciliation', u'concurrent', u'condemnation', u'conditional', u'conduct', u'conference', u'confession', u'confiscate', u'conflict', u'consecutive', u'conservatorship', u'consideration', u'conspiracy', u'constitutional', u'construction', u'contempt', u'contendre', u'contest', u'contested', u'continuance', u'contract', u'contractu', u'contributory', u'controlled', u'convict', u'conviction', u'convincing', u'copy', u'coroner', u'corpus', u'corroborate', u'corroborating', u'corroboration', u'cost', u'counsel', u'count', u'counterclaim', u'counterfeit', u'county', u'court', u'courtroom', u'credibility', u'crime', u'criminal', u'cross', u'cumulative', u'curia', u'curium', u'custody', u'damage', u'de', u'deadly', u'death', u'debt', u'decidendi', u'decision', u'decisis', u'declaration', u'declaratory', u'decree', u'defamation', u'default', u'defendant', u'defender', u'defense', u'deferred', u'delecti', u'deliberate', u'deliberation', u'delicti', u'delicto', u'delinquency', u'demurrer', u'denied', u'department', u'dependency', u'dependent', u'deportation', u'deposition', u'deprivation', u'descent', u'desist', u'detainer', u'detector', u'detention', u'dire', u'direct', u'directed', u'disbarment', u'disclaim', u'discovery', u'dismiss', u'dismissal', u'disorderly', u'disposition', u'dispute', u'dissent', u'dissolution', u'distribution', u'district', u'disturbing', u'diversion', u'divorce', u'docket', u'doctrine', u'document', u'domain', u'domestic', u'domicile', u'double', u'doubt', u'drawing', u'driving', u'drug', u'drunk', u'duce', u'due', u'element', u'embezzle', u'eminent', u'emptor', u'en', u'english', u'enhance', u'enjoining', u'enrichment', u'enter', u'entering', u'entrapment', u'entry', u'equal', u'equitable', u'equity', u'error', u'escheat', u'escrow', u'est', u'estate', u'estoppel', u'et', u'evanescent', u'eviction', u'evidence', u'ex', u'examination', u'exception', u'exclusion', u'exclusionary', u'exclusive', u'exculpatory', u'exeat', u'execute', u'execution', u'executive', u'executor', u'exhibit', u'exonerate', u'expert', u'exposure', u'expungement', u'extenuating', u'extortion', u'extradition', u'extraordinary', u'eye', u'facie', u'facility', u'fact', u'facto', u'factor', u'failure', u'fair', u'faith', u'false', u'family', u'fault', u'federal', u'felony', u'fidelity', u'fiduciary', u'field', u'fifth', u'file', u'find', u'finding', u'fine', u'fingerprint', u'firearm', u'first', u'forcible', u'foreclosure', u'foreman', u'forfeit', u'forfeiture', u'forgery', u'forma', u'foster', u'foundation', u'fourth', u'fraud', u'friend', u'furlough', u'gambling', u'garnish', u'garnishment', u'general', u'gift', u'glossary', u'glue', u'good', u'grand', u'granted', u'grantor', u'ground', u'guardian', u'guardianship', u'guilty', u'habeas', u'handcuff', u'harassment', u'harmless', u'health', u'hearing', u'hearsay', u'hit', u'holding', u'holographic', u'home', u'homicide', u'hospital', u'hostile', u'hung', u'hypothetical', u'illegal', u'immunity', u'impact', u'impanel', u'impeachment', u'implied', u'imprisonment', u'inadmissible', u'incapacity', u'incarcerate', u'incest', u'included', u'incompetency', u'incriminate', u'incrimination', u'indecent', u'indemnify', u'independent', u'indeterminate', u'indictment', u'indigent', u'influence', u'informant', u'information', u'infraction', u'inheritance', u'initial', u'injunction', u'inmate', u'innocence', u'innocent', u'insanity', u'instruction', u'intangible', u'intent', u'inter', u'interest', u'interlocutory', u'interrogatory', u'intervention', u'intestacy', u'intestate', u'inventus', u'investigation', u'involuntary', u'ipsa', u'irrelevant', u'irrevocable', u'issue', u'jail', u'jeopardy', u'join', u'joint', u'joyriding', u'judge', u'judgment', u'judicata', u'judicial', u'jurisdiction', u'jurisprudence', u'juror', u'jury', u'justiciable', u'juvenile', u'kidnapping', u'knowingly', u'ku', u'kus', u'larceny', u'latin', u'law', u'lawsuit', u'lay', u'leading', u'lease', u'legal', u'leniency', u'lesser', u'letter', u'levy', u'lewd', u'li', u'liability', u'liable', u'libel', u'lie', u'lien', u'life', u'limine', u'limitation', u'limited', u'lineup', u'litem', u'litigant', u'litigation', u'living', u'loco', u'locus', u'loitering', u'loquitur', u'lynching', u'magistrate', u'maintenance', u'malfeasance', u'malice', u'malicious', u'malpractice', u'mandamus', u'mandate', u'manslaughter', u'material', u'mayhem', u'mediation', u'memorandum', u'memorialized', u'men', u'mental', u'mentis', u'merit', u'meruit', u'mi', u'miranda', u'mischief', u'misdemeanor', u'mistrial', u'mitigating', u'mittimus', u'modification', u'molestation', u'monitoring', u'moot', u'moral', u'motion', u'mugshot', u'multiplicity', u'murder', u'ne', u'need', u'negligence', u'next', u'night', u'nolle', u'nolo', u'nominal', u'non', u'notice', u'novo', u'null', u'number', u'nunc', u'nuncupative', u'oath', u'object', u'objection', u'obstante', u'offender', u'offense', u'offer', u'officer', u'opening', u'opinion', u'oral', u'order', u'ordinance', u'original', u'overrule', u'overruled', u'overt', u'pandering', u'paralegal', u'pardon', u'parens', u'parentis', u'parole', u'parte', u'particular', u'party', u'patent', u'paternity', u'patriae', u'pauperis', u'pbj', u'peace', u'penalty', u'pendens', u'pending', u'penitentiary', u'people', u'per', u'peremptory', u'performance', u'perjury', u'permanent', u'person', u'persona', u'personal', u'personam', u'petit', u'petition', u'petitioner', u'petty', u'pimp', u'plaintiff', u'plea', u'pleading', u'polling', u'polygraph', u'possession', u'post', u'postponement', u'pour', u'power', u'pre', u'precedent', u'prejudice', u'prejudicial', u'preliminary', u'premeditation', u'preponderance', u'presentment', u'presumption', u'pretense', u'pretermitted', u'prima', u'prior', u'prison', u'privilege', u'privileged', u'privity', u'pro', u'probable', u'probate', u'probation', u'procedural', u'procedure', u'proceeding', u'process', u'produce', u'professional', u'proffer', u'proof', u'property', u'propia', u'prosecuting', u'prosecution', u'prosecutor', u'prosequi', u'prostitution', u'protection', u'protective', u'proven', u'proving', u'proximate', u'public', u'publico', u'punishment', u'punitive', u'purge', u'quantum', u'quash', u'quasi', u'question', u'quid', u'quo', u'rap', u'rape', u'ratification', u'ratio', u're', u'rea', u'real', u'reason', u'reasonable', u'rebuttal', u'recall', u'recidivism', u'reckless', u'recognizance', u'record', u'recross', u'recuse', u'redirect', u'redress', u'referee', u'refief', u'regulation', u'rehearing', u'rejoinder', u'release', u'relevant', u'relief', u'relinquishment', u'rem', u'remand', u'remedy', u'remittitur', u'removal', u'replevin', u'reply', u'report', u'reporter', u'representative', u'resident', u'resolution', u'respondeat', u'respondent', u'responsibility', u'rest', u'restitution', u'restraining', u'retainer', u'return', u'reverse', u'reversible', u'review', u'revocable', u'revoke', u'rie', u'right', u'risk', u'robbery', u'ror', u'row', u'rule', u'run', u'sanction', u'satisfaction', u'se', u'sealing', u'search', u'secured', u'seizure', u'self', u'sentence', u'sentencing', u'separate', u'separation', u'seq', u'sequestration', u'serve', u'served', u'service', u'settlement', u'settlor', u'several', u'sexual', u'sheet', u'sheriff', u'shoplifting', u'show', u'sidebar', u'slander', u'small', u'sniffing', u'sobriety', u'sodomy', u'sovereign', u'specific', u'speedy', u'spendthrift', u'sponte', u'spousal', u'spouse', u'stand', u'standard', u'standing', u'stare', u'state', u'statement', u'status', u'statute', u'statutory', u'stay', u'stipulate', u'strict', u'strike', u'sua', u'sub', u'submit', u'subpoena', u'substance', u'substantive', u'succession', u'sue', u'suit', u'summary', u'summons', u'superior', u'supersedeas', u'supervision', u'support', u'suppress', u'suppression', u'surety', u'survivorship', u'suspended', u'sustain', u'sustained', u'swear', u'syndrome', u'system', u'table', u'tampering', u'tangible', u'tax', u'tecum', u'temporary', u'tenancy', u'term', u'test', u'testament', u'testamentary', u'testate', u'testator', u'testatrix', u'testify', u'testimony', u'theft', u'third', u'time', u'title', u'tort', u'tppm', u'traffic', u'transcript', u'transitory', u'trespassing', u'trial', u'trier', u'tro', u'true', u'trust', u'trustee', u'tunc', u'turncoat', u'turpitude', u'unconscionability', u'unconstitutional', u'undercover', u'undue', u'unemployment', u'unilateral', u'unjust', u'unlawful', u'unsecured', u'usury', u'vacate', u'vagrancy', u'vandalism', u'venire', u'venture', u'venue', u'verdict', u'verdicto', u'victim', u'violation', u'violence', u'visitation', u'vivos', u'void', u'voir', u'voluntary', u'waive', u'waiver', u'warning', u'warrant', u'warranto', u'weapon', u'weight', u'willful', u'without', u'witness', u'work', u'writ', u'zoning']\n"
     ]
    }
   ],
   "source": [
    "print (vectorizer.get_feature_names())\n",
    "feature_vec = vectorizer.transform(corpus_file)"
   ]
  },
  {
   "cell_type": "code",
   "execution_count": 9,
   "metadata": {
    "collapsed": false
   },
   "outputs": [],
   "source": [
    "feature_dim = len (vectorizer.get_feature_names())\n",
    "num_files = 131\n",
    "\n",
    "X_all_files=np.zeros((num_files,feature_dim),dtype=np.int)\n",
    "\n",
    "#################   making features of all 131 pdf files #############\n",
    "\n",
    "wordnet_lemmatizer = WordNetLemmatizer()\n",
    "\n",
    "file_dictionary=dict()\n",
    "\n",
    "path = \"C:/Users/Karan/Documents/data_science/GRS/newcorpus/sethi\"\n",
    "def get_tokens(vectorizer):    \n",
    "        i = 0\n",
    "\tfor filename in os.listdir(path):\n",
    "\t\tfilepath = path+\"/\"+filename\n",
    "\t\tfile_dictionary[i]=filename\n",
    "\t\t_f  = open(filepath,'r')\n",
    "\t\ttext = _f.read()\n",
    "\t\tlowers = text.lower()\n",
    "\t\tno_punctuation = lowers.translate(None, string.punctuation)\n",
    "\t\ttokens = nltk.word_tokenize(no_punctuation)\n",
    "\t\t\n",
    "\t\ttext = \"\"\n",
    "\t\tfor words in tokens:\n",
    "\t\t\ttext = text + \" \" + wordnet_lemmatizer.lemmatize(words.decode(\"utf-8\"))\n",
    "\t\ttext = text.strip()\n",
    "\t\tcorpus = []\n",
    "\t\tcorpus.append(text)\n",
    "\t\tX_all_files[i] = vectorizer.transform(corpus).toarray()\n",
    "\t\ti = i+1\n",
    "\t\t#print (vectorizer.transform(corpus).toarray())\n",
    "get_tokens(vectorizer)\n",
    "\n",
    "threshold = 0.8\n",
    "\n",
    "###### output file #########\n",
    "\n",
    "_f = open(\"results.txt\",'w')\n",
    "\n",
    "######## calculating cosine similarity ##################\n",
    "\n",
    "for i in range(num_files):\n",
    "\t_f.write(file_dictionary[i])\n",
    "\t_f.write(\" \")\n",
    "\tfor j in range(num_files):\n",
    "\t\tif (i==j):\n",
    "\t\t\tcontinue\n",
    "\t\tsim = 1 - spatial.distance.cosine(X_all_files[i],X_all_files[j] )\n",
    "\t\tif (sim > threshold):\n",
    "\t\t\t_f.write(str(file_dictionary[j]))\n",
    "\t\t\t_f.write('/')\t\n",
    "\t\t\t_f.write(str(sim))\n",
    "\t\t\t_f.write(\" \")\n",
    "\t_f.write('\\n \\n \\n')\n",
    "\n",
    "\n",
    "#print (X_all_files)\n",
    "#print (file_dictionary)\n"
   ]
  },
  {
   "cell_type": "code",
   "execution_count": null,
   "metadata": {
    "collapsed": true
   },
   "outputs": [],
   "source": []
  }
 ],
 "metadata": {
  "kernelspec": {
   "display_name": "Python [conda root]",
   "language": "python",
   "name": "conda-root-py"
  },
  "language_info": {
   "codemirror_mode": {
    "name": "ipython",
    "version": 2
   },
   "file_extension": ".py",
   "mimetype": "text/x-python",
   "name": "python",
   "nbconvert_exporter": "python",
   "pygments_lexer": "ipython2",
   "version": "2.7.12"
  }
 },
 "nbformat": 4,
 "nbformat_minor": 1
}
