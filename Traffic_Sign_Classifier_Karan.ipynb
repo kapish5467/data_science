{
 "cells": [
  {
   "cell_type": "markdown",
   "metadata": {},
   "source": [
    "## Project: Building a Traffic Sign Recognition Classifier"
   ]
  },
  {
   "cell_type": "markdown",
   "metadata": {},
   "source": [
    "## Step 0: Load The Data"
   ]
  },
  {
   "cell_type": "code",
   "execution_count": 1,
   "metadata": {},
   "outputs": [],
   "source": [
    "# Load pickled data\n",
    "import pickle\n",
    "\n",
    "training_file = 'train.p'\n",
    "validation_file= 'valid.p'\n",
    "testing_file = 'test.p'\n",
    "\n",
    "with open(training_file, mode='rb') as f:\n",
    "    train = pickle.load(f)\n",
    "with open(validation_file, mode='rb') as f:\n",
    "    valid = pickle.load(f)\n",
    "with open(testing_file, mode='rb') as f:\n",
    "    test = pickle.load(f)\n",
    "    \n",
    "X_train, y_train = train['features'], train['labels']\n",
    "X_valid, y_valid = valid['features'], valid['labels']\n",
    "X_test, y_test = test['features'], test['labels']"
   ]
  },
  {
   "cell_type": "code",
   "execution_count": 2,
   "metadata": {},
   "outputs": [
    {
     "data": {
      "text/plain": [
       "(34799, 32, 32, 3)"
      ]
     },
     "execution_count": 2,
     "metadata": {},
     "output_type": "execute_result"
    }
   ],
   "source": [
    "X_train.shape"
   ]
  },
  {
   "cell_type": "markdown",
   "metadata": {},
   "source": [
    "### Providing a Basic Summary of the Data Set Using Python and Pandas"
   ]
  },
  {
   "cell_type": "code",
   "execution_count": 3,
   "metadata": {},
   "outputs": [
    {
     "name": "stdout",
     "output_type": "stream",
     "text": [
      "Number of training examples = 34799\n",
      "Number of validation examples = 4410\n",
      "Number of testing examples = 12630\n",
      "Image data shape = (32, 32, 3)\n",
      "Number of classes = 43\n"
     ]
    }
   ],
   "source": [
    "#Number of training examples\n",
    "n_train = X_train.shape[0]\n",
    "\n",
    "#Number of validation examples\n",
    "n_validation = X_valid.shape[0]\n",
    "\n",
    "#Number of testing examples.\n",
    "n_test = X_test.shape[0]\n",
    "\n",
    "#Shape of an traffic sign image?\n",
    "image_shape = format(X_train[0].shape)\n",
    "\n",
    "#How many unique classes/labels there are in the dataset.\n",
    "n_classes = 43\n",
    "\n",
    "print(\"Number of training examples =\", n_train)\n",
    "print(\"Number of validation examples =\", n_validation)\n",
    "print(\"Number of testing examples =\", n_test)\n",
    "print(\"Image data shape =\", image_shape)\n",
    "print(\"Number of classes =\", n_classes)"
   ]
  },
  {
   "cell_type": "code",
   "execution_count": 4,
   "metadata": {},
   "outputs": [],
   "source": [
    "import matplotlib.pyplot as plt\n",
    "%matplotlib inline"
   ]
  },
  {
   "cell_type": "markdown",
   "metadata": {},
   "source": [
    "### Pre-processing the Data Set (normalization)"
   ]
  },
  {
   "cell_type": "markdown",
   "metadata": {},
   "source": [
    "<b> Using normal pre-processing technique, I only normalized my dataset. When I tried to grayscale my image, the accuracy of my \n",
    "dataset was reduced by a margin of around 5 - 7 percent. Therefore, I decided to only normalize the images and not convert it \n",
    "to grayscale. <b>"
   ]
  },
  {
   "cell_type": "code",
   "execution_count": 5,
   "metadata": {},
   "outputs": [
    {
     "name": "stdout",
     "output_type": "stream",
     "text": [
      "38\n"
     ]
    },
    {
     "data": {
      "image/png": "[encoded data removed]",
      "text/plain": [
       "<matplotlib.figure.Figure at 0x210a4234898>"
      ]
     },
     "metadata": {},
     "output_type": "display_data"
    }
   ],
   "source": [
    "import random\n",
    "import numpy as np\n",
    "\n",
    "#X_train = np.array(X_train - 128.) / 256\n",
    "\n",
    "index = random.randint(0, len(X_train))\n",
    "image = X_train[index].squeeze()\n",
    "\n",
    "plt.figure(figsize = (1,1))\n",
    "plt.imshow(image)\n",
    "print(y_train[index])\n"
   ]
  },
  {
   "cell_type": "markdown",
   "metadata": {},
   "source": [
    "### Model Architecture"
   ]
  },
  {
   "cell_type": "code",
   "execution_count": 6,
   "metadata": {},
   "outputs": [],
   "source": [
    "from sklearn.utils import shuffle\n",
    "X_train, y_train = shuffle(X_train, y_train)"
   ]
  },
  {
   "cell_type": "code",
   "execution_count": 7,
   "metadata": {},
   "outputs": [],
   "source": [
    "from tensorflow.contrib.layers import flatten\n",
    "\n",
    "def LeNet(x):    \n",
    "    # Hyperparameters\n",
    "    mu = 0\n",
    "    sigma = 0.1\n",
    "\n",
    "    #Layer 1: Convolutional. Input = 32x32x1. Output = 28x28x6.\n",
    "    conv1_W = tf.Variable(tf.truncated_normal(shape=(5, 5, 3, 6), mean = mu, stddev = sigma))\n",
    "    conv1_b = tf.Variable(tf.zeros(6))\n",
    "    conv1   = tf.nn.conv2d(x, conv1_W, strides=[1, 1, 1, 1], padding='VALID') + conv1_b\n",
    "\n",
    "    #Activation.\n",
    "    conv1 = tf.nn.relu(conv1)\n",
    "\n",
    "    #Pooling. Input = 28x28x6. Output = 14x14x6.\n",
    "    conv1 = tf.nn.max_pool(conv1, ksize=[1, 2, 2, 1], strides=[1, 2, 2, 1], padding='VALID')\n",
    "\n",
    "    #Layer 2: Convolutional. Output = 10x10x16.\n",
    "    conv2_W = tf.Variable(tf.truncated_normal(shape=(5, 5, 6, 16), mean = mu, stddev = sigma))\n",
    "    conv2_b = tf.Variable(tf.zeros(16))\n",
    "    conv2   = tf.nn.conv2d(conv1, conv2_W, strides=[1, 1, 1, 1], padding='VALID') + conv2_b\n",
    "\n",
    "    #Activation.\n",
    "    conv2 = tf.nn.relu(conv2)\n",
    "\n",
    "    #Pooling. Input = 10x10x16. Output = 5x5x16.\n",
    "    conv2 = tf.nn.max_pool(conv2, ksize=[1, 1, 1, 1], strides=[1, 2, 2, 1], padding='VALID')\n",
    "\n",
    "    #Flatten. Input = 5x5x16. Output = 400.\n",
    "    fc0   = flatten(conv2)\n",
    "\n",
    "    #Layer 3: Fully Connected. Input = 400. Output = 120.\n",
    "    fc1_W = tf.Variable(tf.truncated_normal(shape=(400, 120), mean = mu, stddev = sigma))\n",
    "    fc1_b = tf.Variable(tf.zeros(120))\n",
    "    fc1   = tf.matmul(fc0, fc1_W) + fc1_b\n",
    "\n",
    "    #Activation.\n",
    "    fc1    = tf.nn.relu(fc1)\n",
    "\n",
    "    #Layer 4: Fully Connected. Input = 120. Output = 84.\n",
    "    fc2_W  = tf.Variable(tf.truncated_normal(shape=(120, 84), mean = mu, stddev = sigma))\n",
    "    fc2_b  = tf.Variable(tf.zeros(84))\n",
    "    fc2    = tf.matmul(fc1, fc2_W) + fc2_b\n",
    "\n",
    "    #Activation.\n",
    "    fc2    = tf.nn.relu(fc2)\n",
    "    \n",
    "    #Layer 5: Fully Connected. Input = 84. Output = 10.\n",
    "    fc3_W  = tf.Variable(tf.truncated_normal(shape=(84, 43), mean = mu, stddev = sigma))\n",
    "    fc3_b  = tf.Variable(tf.zeros(43))\n",
    "    logits = tf.matmul(fc2, fc3_W) + fc3_b\n",
    "\n",
    "    return logits"
   ]
  },
  {
   "cell_type": "code",
   "execution_count": 8,
   "metadata": {},
   "outputs": [],
   "source": [
    "import tensorflow as tf\n",
    "x = tf.placeholder(tf.float32, (None, 32, 32, 3))\n",
    "y = tf.placeholder(tf.int32, (None))\n",
    "EPOCHS = 30\n",
    "BATCH_SIZE = 128\n",
    "one_hot_y = tf.one_hot(y, 43)"
   ]
  },
  {
   "cell_type": "code",
   "execution_count": 9,
   "metadata": {},
   "outputs": [],
   "source": [
    "rate = 0.001\n",
    "\n",
    "logits = LeNet(x)\n",
    "cross_entropy = tf.nn.softmax_cross_entropy_with_logits(logits = logits, labels = one_hot_y)\n",
    "loss_operation = tf.reduce_mean(cross_entropy)\n",
    "optimizer = tf.train.AdamOptimizer(learning_rate = rate)\n",
    "training_operation = optimizer.minimize(loss_operation)"
   ]
  },
  {
   "cell_type": "code",
   "execution_count": 10,
   "metadata": {},
   "outputs": [],
   "source": [
    "correct_prediction = tf.equal(tf.argmax(logits, 1), tf.argmax(one_hot_y, 1))\n",
    "accuracy_operation = tf.reduce_mean(tf.cast(correct_prediction, tf.float32))\n",
    "\n",
    "def evaluate(X_data, y_data):\n",
    "    num_examples = len(X_data)\n",
    "    total_accuracy = 0\n",
    "    sess = tf.get_default_session()\n",
    "    for offset in range(0, num_examples, BATCH_SIZE):\n",
    "        batch_x, batch_y = X_data[offset:offset+BATCH_SIZE], y_data[offset:offset+BATCH_SIZE]\n",
    "        accuracy = sess.run(accuracy_operation, feed_dict = {x:batch_x, y:batch_y})\n",
    "        total_accuracy += (accuracy * len(batch_x))\n",
    "    return total_accuracy / num_examples\n"
   ]
  },
  {
   "cell_type": "markdown",
   "metadata": {},
   "source": [
    "### Train, Validate and Test the Model"
   ]
  },
  {
   "cell_type": "markdown",
   "metadata": {},
   "source": [
    "A validation set can be used to assess how well the model is performing. A low accuracy on the training and validation\n",
    "sets imply underfitting. A high accuracy on the training set but low accuracy on the validation set implies overfitting."
   ]
  },
  {
   "cell_type": "markdown",
   "metadata": {},
   "source": [
    "<b> Below are the 5 images that I randomly downloaded from the internet: <b>"
   ]
  },
  {
   "cell_type": "code",
   "execution_count": 11,
   "metadata": {},
   "outputs": [
    {
     "name": "stderr",
     "output_type": "stream",
     "text": [
      "C:\\Users\\Karan\\Anaconda2\\envs\\carnd-term1\\lib\\site-packages\\ipykernel_launcher.py:2: DeprecationWarning: `imread` is deprecated!\n",
      "`imread` is deprecated in SciPy 1.0.0, and will be removed in 1.2.0.\n",
      "Use ``imageio.imread`` instead.\n",
      "  \n",
      "C:\\Users\\Karan\\Anaconda2\\envs\\carnd-term1\\lib\\site-packages\\ipykernel_launcher.py:6: DeprecationWarning: `imread` is deprecated!\n",
      "`imread` is deprecated in SciPy 1.0.0, and will be removed in 1.2.0.\n",
      "Use ``imageio.imread`` instead.\n",
      "  \n",
      "C:\\Users\\Karan\\Anaconda2\\envs\\carnd-term1\\lib\\site-packages\\ipykernel_launcher.py:10: DeprecationWarning: `imread` is deprecated!\n",
      "`imread` is deprecated in SciPy 1.0.0, and will be removed in 1.2.0.\n",
      "Use ``imageio.imread`` instead.\n",
      "  # Remove the CWD from sys.path while we load stuff.\n",
      "C:\\Users\\Karan\\Anaconda2\\envs\\carnd-term1\\lib\\site-packages\\ipykernel_launcher.py:14: DeprecationWarning: `imread` is deprecated!\n",
      "`imread` is deprecated in SciPy 1.0.0, and will be removed in 1.2.0.\n",
      "Use ``imageio.imread`` instead.\n",
      "  \n",
      "C:\\Users\\Karan\\Anaconda2\\envs\\carnd-term1\\lib\\site-packages\\ipykernel_launcher.py:18: DeprecationWarning: `imread` is deprecated!\n",
      "`imread` is deprecated in SciPy 1.0.0, and will be removed in 1.2.0.\n",
      "Use ``imageio.imread`` instead.\n"
     ]
    }
   ],
   "source": [
    "from scipy.misc import imread\n",
    "im1 = imread(\"construction.jpg\").astype(np.float32)\n",
    "#im1 = im1 - np.mean(im1)\n",
    "#im3 = np.array(im3 - 128.) / 256\n",
    "\n",
    "im2 = imread(\"yield.jpg\").astype(np.float32)\n",
    "#im2 = im2 - np.mean(im2)\n",
    "#im1 = np.array(im1 - 128.) / 256\n",
    "\n",
    "im3 = imread(\"stop.jpg\").astype(np.float32)\n",
    "#im3 = im3 - np.mean(im3)\n",
    "#im4 = np.array(im4 - 128.) / 256\n",
    "\n",
    "im4 = imread(\"no_entry.jpg\").astype(np.float32)\n",
    "#im4 = im4 - np.mean(im4)\n",
    "#im5 = np.array(im5 - 128.) / 256\n",
    "\n",
    "im5 = imread(\"bumpy.jpg\").astype(np.float32)\n",
    "#im5 = im5 - np.mean(im5)\n",
    "#im2 = np.array(im2 - 128.) / 256\n"
   ]
  },
  {
   "cell_type": "code",
   "execution_count": 12,
   "metadata": {},
   "outputs": [
    {
     "name": "stderr",
     "output_type": "stream",
     "text": [
      "C:\\Users\\Karan\\Anaconda2\\envs\\carnd-term1\\lib\\site-packages\\ipykernel_launcher.py:2: DeprecationWarning: `imresize` is deprecated!\n",
      "`imresize` is deprecated in SciPy 1.0.0, and will be removed in 1.2.0.\n",
      "Use ``skimage.transform.resize`` instead.\n",
      "  \n",
      "C:\\Users\\Karan\\Anaconda2\\envs\\carnd-term1\\lib\\site-packages\\ipykernel_launcher.py:3: DeprecationWarning: `imresize` is deprecated!\n",
      "`imresize` is deprecated in SciPy 1.0.0, and will be removed in 1.2.0.\n",
      "Use ``skimage.transform.resize`` instead.\n",
      "  This is separate from the ipykernel package so we can avoid doing imports until\n",
      "C:\\Users\\Karan\\Anaconda2\\envs\\carnd-term1\\lib\\site-packages\\ipykernel_launcher.py:4: DeprecationWarning: `imresize` is deprecated!\n",
      "`imresize` is deprecated in SciPy 1.0.0, and will be removed in 1.2.0.\n",
      "Use ``skimage.transform.resize`` instead.\n",
      "  after removing the cwd from sys.path.\n",
      "C:\\Users\\Karan\\Anaconda2\\envs\\carnd-term1\\lib\\site-packages\\ipykernel_launcher.py:5: DeprecationWarning: `imresize` is deprecated!\n",
      "`imresize` is deprecated in SciPy 1.0.0, and will be removed in 1.2.0.\n",
      "Use ``skimage.transform.resize`` instead.\n",
      "  \"\"\"\n",
      "C:\\Users\\Karan\\Anaconda2\\envs\\carnd-term1\\lib\\site-packages\\ipykernel_launcher.py:6: DeprecationWarning: `imresize` is deprecated!\n",
      "`imresize` is deprecated in SciPy 1.0.0, and will be removed in 1.2.0.\n",
      "Use ``skimage.transform.resize`` instead.\n",
      "  \n"
     ]
    }
   ],
   "source": [
    "import scipy.misc\n",
    "im1 = scipy.misc.imresize(im1, (32, 32))\n",
    "im2 = scipy.misc.imresize(im2, (32, 32))\n",
    "im3 = scipy.misc.imresize(im3, (32, 32))\n",
    "im4 = scipy.misc.imresize(im4, (32, 32))\n",
    "im5 = scipy.misc.imresize(im5, (32, 32))"
   ]
  },
  {
   "cell_type": "code",
   "execution_count": 13,
   "metadata": {},
   "outputs": [
    {
     "name": "stdout",
     "output_type": "stream",
     "text": [
      "Training...\n",
      "\n",
      "EPOCH 1...\n",
      "Validation Accuracy : 0.766\n",
      "\n",
      "EPOCH 2...\n",
      "Validation Accuracy : 0.831\n",
      "\n",
      "EPOCH 3...\n",
      "Validation Accuracy : 0.862\n",
      "\n",
      "EPOCH 4...\n",
      "Validation Accuracy : 0.861\n",
      "\n",
      "EPOCH 5...\n",
      "Validation Accuracy : 0.879\n",
      "\n",
      "EPOCH 6...\n",
      "Validation Accuracy : 0.883\n",
      "\n",
      "EPOCH 7...\n",
      "Validation Accuracy : 0.883\n",
      "\n",
      "EPOCH 8...\n",
      "Validation Accuracy : 0.873\n",
      "\n",
      "EPOCH 9...\n",
      "Validation Accuracy : 0.871\n",
      "\n",
      "EPOCH 10...\n",
      "Validation Accuracy : 0.887\n",
      "\n",
      "EPOCH 11...\n",
      "Validation Accuracy : 0.885\n",
      "\n",
      "EPOCH 12...\n",
      "Validation Accuracy : 0.895\n",
      "\n",
      "EPOCH 13...\n",
      "Validation Accuracy : 0.896\n",
      "\n",
      "EPOCH 14...\n",
      "Validation Accuracy : 0.898\n",
      "\n",
      "EPOCH 15...\n",
      "Validation Accuracy : 0.905\n",
      "\n",
      "EPOCH 16...\n",
      "Validation Accuracy : 0.878\n",
      "\n",
      "EPOCH 17...\n",
      "Validation Accuracy : 0.890\n",
      "\n",
      "EPOCH 18...\n",
      "Validation Accuracy : 0.898\n",
      "\n",
      "EPOCH 19...\n",
      "Validation Accuracy : 0.901\n",
      "\n",
      "EPOCH 20...\n",
      "Validation Accuracy : 0.908\n",
      "\n",
      "EPOCH 21...\n",
      "Validation Accuracy : 0.911\n",
      "\n",
      "EPOCH 22...\n",
      "Validation Accuracy : 0.906\n",
      "\n",
      "EPOCH 23...\n",
      "Validation Accuracy : 0.901\n",
      "\n",
      "EPOCH 24...\n",
      "Validation Accuracy : 0.915\n",
      "\n",
      "EPOCH 25...\n",
      "Validation Accuracy : 0.902\n",
      "\n",
      "EPOCH 26...\n",
      "Validation Accuracy : 0.904\n",
      "\n",
      "EPOCH 27...\n",
      "Validation Accuracy : 0.912\n",
      "\n",
      "EPOCH 28...\n",
      "Validation Accuracy : 0.914\n",
      "\n",
      "EPOCH 29...\n",
      "Validation Accuracy : 0.893\n",
      "\n",
      "EPOCH 30...\n",
      "Validation Accuracy : 0.923\n",
      "\n",
      "Image 0\n",
      "Road work: 1.000\n",
      "Road narrows on the right: 0.000\n",
      "Bicycles crossing: 0.000\n",
      "Dangerous curve to the right: 0.000\n",
      "Children crossing: 0.000\n",
      "\n",
      "Image 1\n",
      "Yield: 1.000\n",
      "End of no passing by vehicles over 3.5 metric tons: 0.000\n",
      "No passing for vehicles over 3.5 metric tons: 0.000\n",
      "General caution: 0.000\n",
      "No entry: 0.000\n",
      "\n",
      "Image 2\n",
      "Stop: 1.000\n",
      "End of no passing by vehicles over 3.5 metric tons: 0.000\n",
      "No passing for vehicles over 3.5 metric tons: 0.000\n",
      "General caution: 0.000\n",
      "No entry: 0.000\n",
      "\n",
      "Image 3\n",
      "No entry: 1.000\n",
      "No passing: 0.000\n",
      "Speed limit (30km/h): 0.000\n",
      "Speed limit (20km/h): 0.000\n",
      "Speed limit (60km/h): 0.000\n",
      "\n",
      "Image 4\n",
      "No passing: 0.983\n",
      "Vehicles over 3.5 metric tons prohibited: 0.013\n",
      "Stop: 0.003\n",
      "Speed limit (60km/h): 0.001\n",
      "Road work: 0.000\n",
      "\n",
      "Time: 1054.704 seconds\n"
     ]
    },
    {
     "name": "stderr",
     "output_type": "stream",
     "text": [
      "C:\\Users\\Karan\\Anaconda2\\envs\\carnd-term1\\lib\\site-packages\\ipykernel_launcher.py:34: DeprecationWarning: \n",
      ".ix is deprecated. Please use\n",
      ".loc for label based indexing or\n",
      ".iloc for positional indexing\n",
      "\n",
      "See the documentation here:\n",
      "http://pandas.pydata.org/pandas-docs/stable/indexing.html#ix-indexer-is-deprecated\n"
     ]
    }
   ],
   "source": [
    "import time\n",
    "import pandas as pd\n",
    "sign_names = pd.read_csv('signnames.csv')\n",
    "t = time.time()\n",
    "\n",
    "with tf.Session() as sess:\n",
    "    sess.run(tf.global_variables_initializer())\n",
    "    num_examples = len(X_train)\n",
    "    \n",
    "    print(\"Training...\")\n",
    "    print()\n",
    "    for i in range(EPOCHS):\n",
    "        X_train, y_train = shuffle(X_train, y_train)\n",
    "        for offset in range(0, num_examples, BATCH_SIZE):\n",
    "            end = offset + BATCH_SIZE\n",
    "            batch_x, batch_y = X_train[offset:end], y_train[offset:end]\n",
    "            sess.run(training_operation, feed_dict={x:batch_x, y:batch_y})\n",
    "            \n",
    "        validation_accuracy = evaluate(X_valid, y_valid)\n",
    "        print(\"EPOCH {}...\".format(i+1))\n",
    "        print(\"Validation Accuracy : {:.3f}\".format(validation_accuracy))\n",
    "        print()\n",
    "    \n",
    "    predict = tf.argmax(logits, 1)\n",
    "    #preds = sess.run(predict, feed_dict={x: [im1, im2, im3, im4, im5]})\n",
    "    probs = tf.nn.softmax(logits)\n",
    "    output = sess.run(probs, feed_dict={x: [im1, im2, im3, im4, im5]})\n",
    "\n",
    "# Print Output\n",
    "    for input_im_ind in range(output.shape[0]):\n",
    "        inds = np.argsort(output)[input_im_ind, :]\n",
    "        print(\"Image\", input_im_ind)\n",
    "        for i in range(5):\n",
    "            print(\"%s: %.3f\" % (sign_names.ix[inds[-1 - i]][1], output[input_im_ind, inds[-1 - i]]))\n",
    "        print()\n",
    "\n",
    "    print(\"Time: %.3f seconds\" % (time.time() - t))"
   ]
  },
  {
   "cell_type": "markdown",
   "metadata": {},
   "source": [
    "### Analyzing the test Images"
   ]
  },
  {
   "cell_type": "markdown",
   "metadata": {},
   "source": [
    "I was actually stuck when the Tensorflow session that I created ended as soon as the function ended. So the easy way out that I could figure out was to just use the same function when the session is still running and hence 4/5 images were correctly classified. I was actually pretty satisfied with results from the test data with only 5 images."
   ]
  }
 ],
 "metadata": {
  "anaconda-cloud": {},
  "kernelspec": {
   "display_name": "carnd-term1",
   "language": "python",
   "name": "carnd-term1"
  },
  "language_info": {
   "codemirror_mode": {
    "name": "ipython",
    "version": 3
   },
   "file_extension": ".py",
   "mimetype": "text/x-python",
   "name": "python",
   "nbconvert_exporter": "python",
   "pygments_lexer": "ipython3",
   "version": "3.5.2"
  },
  "widgets": {
   "state": {},
   "version": "1.1.2"
  }
 },
 "nbformat": 4,
 "nbformat_minor": 1
}
